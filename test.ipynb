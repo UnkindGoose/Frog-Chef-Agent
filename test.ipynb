{
 "cells": [
  {
   "cell_type": "code",
   "execution_count": 10,
   "id": "6e95013d",
   "metadata": {},
   "outputs": [],
   "source": [
    "import os\n",
    "import pandas as pd\n",
    "import requests\n",
    "import re\n",
    "\n",
    "import lancedb\n",
    "from langdetect import detect\n",
    "\n",
    "from typing import TypedDict, Annotated, Optional, List\n",
    "\n",
    "from langchain.vectorstores import LanceDB\n",
    "from langchain.prompts import ChatPromptTemplate\n",
    "from langchain_ollama.embeddings import OllamaEmbeddings\n",
    "from langchain_core.messages import HumanMessage, AIMessage, ToolMessage\n",
    "from langgraph.types import Command\n",
    "from langchain_ollama.chat_models import ChatOllama\n",
    "from langgraph.prebuilt import ToolNode\n",
    "from langgraph.graph import StateGraph, START, END\n",
    "#from langchain.tools import tool\n",
    "from langchain_core.tools import tool, InjectedToolCallId"
   ]
  },
  {
   "cell_type": "code",
   "execution_count": 3,
   "id": "6e4b6f56",
   "metadata": {},
   "outputs": [
    {
     "name": "stdout",
     "output_type": "stream",
     "text": [
      "qwen3:1.7b\n",
      "nomic-embed-text:latest\n"
     ]
    },
    {
     "data": {
      "text/html": [
       "<div>\n",
       "<style scoped>\n",
       "    .dataframe tbody tr th:only-of-type {\n",
       "        vertical-align: middle;\n",
       "    }\n",
       "\n",
       "    .dataframe tbody tr th {\n",
       "        vertical-align: top;\n",
       "    }\n",
       "\n",
       "    .dataframe thead th {\n",
       "        text-align: right;\n",
       "    }\n",
       "</style>\n",
       "<table border=\"1\" class=\"dataframe\">\n",
       "  <thead>\n",
       "    <tr style=\"text-align: right;\">\n",
       "      <th></th>\n",
       "      <th>Meals</th>\n",
       "    </tr>\n",
       "  </thead>\n",
       "  <tbody>\n",
       "    <tr>\n",
       "      <th>0</th>\n",
       "      <td>Apam balik</td>\n",
       "    </tr>\n",
       "    <tr>\n",
       "      <th>1</th>\n",
       "      <td>Apple &amp; Blackberry Crumble</td>\n",
       "    </tr>\n",
       "    <tr>\n",
       "      <th>2</th>\n",
       "      <td>Apple Frangipan Tart</td>\n",
       "    </tr>\n",
       "    <tr>\n",
       "      <th>3</th>\n",
       "      <td>Ayam Percik</td>\n",
       "    </tr>\n",
       "    <tr>\n",
       "      <th>4</th>\n",
       "      <td>Baingan Bharta</td>\n",
       "    </tr>\n",
       "  </tbody>\n",
       "</table>\n",
       "</div>"
      ],
      "text/plain": [
       "                        Meals\n",
       "0                  Apam balik\n",
       "1  Apple & Blackberry Crumble\n",
       "2        Apple Frangipan Tart\n",
       "3                 Ayam Percik\n",
       "4              Baingan Bharta"
      ]
     },
     "execution_count": 3,
     "metadata": {},
     "output_type": "execute_result"
    }
   ],
   "source": [
    "model = os.environ['MODEL_NAME']\n",
    "embedding_model = os.environ['EMBEDDING_MODEL']\n",
    "translator_model = os.environ['TRANSLATOR_MODEL_NAME']\n",
    "mealdb = pd.read_csv('mealdb.csv')\n",
    "\n",
    "print(model)\n",
    "print(embedding_model)\n",
    "mealdb.head()"
   ]
  },
  {
   "cell_type": "code",
   "execution_count": null,
   "id": "2a299ae5",
   "metadata": {},
   "outputs": [],
   "source": []
  },
  {
   "cell_type": "code",
   "execution_count": 4,
   "id": "5086dd9f",
   "metadata": {},
   "outputs": [],
   "source": [
    "db = lancedb.connect(\"frog-chef-db\")\n",
    "embedding = OllamaEmbeddings(model=embedding_model)\n",
    "\n",
    "meal_store = LanceDB(connection=db, embedding=embedding, table_name=\"meals\")\n"
   ]
  },
  {
   "cell_type": "code",
   "execution_count": 5,
   "id": "c64ef1e6",
   "metadata": {},
   "outputs": [
    {
     "data": {
      "text/plain": [
       "[Document(metadata={'id': 'e4960168-443c-46c6-9ff0-96ad600d300d'}, page_content='Chakchouka'),\n",
       " Document(metadata={'id': '9494ba2a-2530-473c-824d-eb1cdb3cf494'}, page_content='Fish Soup (Ukha)'),\n",
       " Document(metadata={'id': '77fdabb6-cf36-479c-a499-0c280e935f2a'}, page_content='Lamb Pilaf (Plov)'),\n",
       " Document(metadata={'id': 'e26b1f39-d6c7-4e96-baa7-6a7b59b15fe2'}, page_content='Cabbage Soup (Shchi)')]"
      ]
     },
     "execution_count": 5,
     "metadata": {},
     "output_type": "execute_result"
    }
   ],
   "source": [
    "test_emb = embedding.embed_query(\"Как приготовить уху?\")\n",
    "\n",
    "meal_store.similarity_search_by_vector(test_emb)"
   ]
  },
  {
   "cell_type": "code",
   "execution_count": 6,
   "id": "07b09e96",
   "metadata": {},
   "outputs": [],
   "source": [
    "translator_prompt = ChatPromptTemplate.from_messages(\n",
    "    [\n",
    "        (\n",
    "            \"system\",\n",
    "            \"You are a specialized assistant for translating text from English to Russian. Переводи сообщения с английского на русский, сохраняя смысл текста и его формат. You can only translate human's messages. Do not answer questions, only translate from English to Russian.\",\n",
    "        ),\n",
    "        (\"placeholder\",  \"{input}\"),\n",
    "    ]\n",
    ")\n",
    "\n",
    "system_prompt_en = ChatPromptTemplate.from_messages(\n",
    "    [\n",
    "        (\n",
    "            \"system\",\n",
    "            \"You are a cheerful frog chef who helps users with recipes and ingredients. Answer in a friendly, humorous tone but stay on point. You can help user with different recipes, if they ask you. Only pass meal name to the tools, without any other words.\",\n",
    "        ),\n",
    "        (\"placeholder\",  \"{input}\"),\n",
    "    ]\n",
    ")\n",
    "\n",
    "system_prompt_ru = ChatPromptTemplate.from_messages(\n",
    "    [\n",
    "        (\n",
    "            \"system\",\n",
    "            \"Ты весёлый лягушонок-повар. Ты помогаешь пользователю с рецептами и ингредиентами. Отвечай дружелюбно, весело, но по делу. Если пользователь спросит рецепт, то воспользуйся своими tools для поиска подходящего рецепта. При вызове tool передавай только название блюда, без других слов. При вызове tool передавай ему название блюда на английском без других слов.\",\n",
    "        ),\n",
    "        (\"placeholder\",  \"{input}\"),\n",
    "    ]\n",
    ")"
   ]
  },
  {
   "cell_type": "code",
   "execution_count": null,
   "id": "1c31eda2",
   "metadata": {},
   "outputs": [],
   "source": [
    "class AgentState(TypedDict):\n",
    "    messages: List[HumanMessage | AIMessage]\n",
    "    language: str\n",
    "    image: Optional[str]"
   ]
  },
  {
   "cell_type": "code",
   "execution_count": 11,
   "id": "d12df505",
   "metadata": {},
   "outputs": [],
   "source": [
    "@tool\n",
    "def find_closest_meal(tool_call_id: Annotated[str, InjectedToolCallId], meal_query: str) -> dict:\n",
    "    \"\"\"If user asks for a meal recipe, run this tool with meal name in English.\n",
    "    \n",
    "        Input:\n",
    "        tool_call_id - id of tool call,\n",
    "        Meal Name in English\n",
    "        \n",
    "        Returns:\n",
    "        Meal_Recipe_Information: string\n",
    "    \"\"\"\n",
    "    print(\"Started find meal tool\")\n",
    "    docs = meal_store.similarity_search(meal_query, k=1)\n",
    "    \n",
    "    if docs:\n",
    "        meal_name = docs[0].page_content\n",
    "    else:\n",
    "        return\n",
    "        \n",
    "    url = f\"https://www.themealdb.com/api/json/v1/1/search.php?s={meal_name}\"\n",
    "    response = requests.get(url)\n",
    "    data = response.json()\n",
    "    \n",
    "    meals = data.get(\"meals\")\n",
    "    if not meals:\n",
    "        return \"Рецепт не найден\"\n",
    "    \n",
    "    meal = meals[0]\n",
    "    \n",
    "    ingredients_str = ''\n",
    "    for i in range(1, 21):\n",
    "        if meal['strIngredient' + str(i)] not in ['', None]:\n",
    "            ingredients_str += f\"{str(i)}. {meal['strIngredient' + str(i)]:<20} {meal['strMeasure' + str(i)]}\\n\" \n",
    "        else:\n",
    "            pass\n",
    "    \n",
    "    '''\n",
    "    result = f\"\"\"\n",
    "    Meal: {meal['strMeal']}\n",
    "    Meal Category: {meal['strCategory']}\n",
    "    Meal Origin: {meal['strArea']}\n",
    "    \n",
    "    Meal Ingredients:\n",
    "{ingredients_str}\n",
    "    \n",
    "    Meal Recipe: {meal['strInstructions']}\n",
    "    \"\"\"\n",
    "    '''\n",
    "    \n",
    "    result = {\n",
    "        \"name\": meal['strMeal'],\n",
    "        \"category\": meal['strCategory'],\n",
    "        \"origin country\": meal['strArea'],\n",
    "        \"ingredients\": ingredients_str,\n",
    "        \"instructions\": meal['strInstructions']\n",
    "    }\n",
    "    \n",
    "    print(result)\n",
    "    return Command(update={\n",
    "        \"image\": meal['strMealThumb'],\n",
    "        # update the message history\n",
    "        \"messages\": [\n",
    "            ToolMessage(\n",
    "                result,\n",
    "                tool_call_id=tool_call_id\n",
    "            )\n",
    "        ]\n",
    "    })\n",
    " "
   ]
  },
  {
   "cell_type": "code",
   "execution_count": 12,
   "id": "8c4b1e5a",
   "metadata": {},
   "outputs": [],
   "source": [
    "llm = ChatOllama(\n",
    "    model=model,\n",
    "    temperature=0.7\n",
    ").bind_tools([find_closest_meal])\n",
    "\n",
    "translator = ChatOllama(model=translator_model, temperature=0)"
   ]
  },
  {
   "cell_type": "code",
   "execution_count": 13,
   "id": "fe7e3de0",
   "metadata": {},
   "outputs": [],
   "source": [
    "def remove_thinking_tags(text: str) -> str:\n",
    "    return re.sub(r\"<\\/?think.*?>\", \"\", text, flags=re.IGNORECASE)\n",
    "\n",
    "\n",
    "def translation_router(state: AgentState):\n",
    "    print(\"Deciding translation\")\n",
    "    print(\"Bot's answer is in \" + detect(state['messages'][-1].content) + \" language\")\n",
    "    print(\"User's question is in \" + state['language'] + \" language\")\n",
    "    if state['language'] != detect(state['messages'][-1].content):\n",
    "        return 'translate'\n",
    "    else:\n",
    "        return 'next'\n",
    "\n",
    "def meal_router(state: AgentState):\n",
    "    print(\"Deciding meal recipe\")\n",
    "    print(state)\n",
    "    last_msg = state[\"messages\"][-1]\n",
    "    if last_msg.tool_calls and isinstance(last_msg, AIMessage):\n",
    "        return \"tools\"\n",
    "    return \"end\"\n",
    "\n",
    "def llm_node(state: AgentState):\n",
    "    print(\"Entering LLM Node\")\n",
    "    print(state)\n",
    "    llm_chain = system_prompt_en | llm if state['language'] == 'en' else system_prompt_ru | llm\n",
    "    response = llm_chain.invoke({'input':state['messages']})\n",
    "    #response.content = remove_thinking_tags(response.content)\n",
    "    response.content = re.sub(r\"<think>.*?</think>\", \"\", response.content, flags=re.DOTALL).strip()\n",
    "\n",
    "    \n",
    "    if not isinstance(response, AIMessage):\n",
    "        raise ValueError(\"LLM must return an AIMessage with optional tool_calls\")\n",
    "\n",
    "    state['messages'] = state['messages'] + [response]\n",
    "    #print(state['messages'])\n",
    "    return state\n",
    "\n",
    "def translate_node(state: AgentState):\n",
    "    print(\"Entering Translation Node\")\n",
    "    translation_chain = translator_prompt | translator\n",
    "    translation = translation_chain.invoke({'input':state['messages']})\n",
    "    state['messages'] = state['messages'] + [translation]\n",
    "    print(state['messages'])\n",
    "    return state\n",
    "\n",
    "find_meal_node = ToolNode([find_closest_meal], messages_key=\"messages\")"
   ]
  },
  {
   "cell_type": "code",
   "execution_count": 14,
   "id": "c9b0a72e",
   "metadata": {},
   "outputs": [],
   "source": [
    "builder = StateGraph(AgentState)\n",
    "\n",
    "builder.add_node(\"translation_router\", lambda state: state)\n",
    "builder.add_node(\"translator\", translate_node)\n",
    "builder.add_node(\"llm\", llm_node)\n",
    "builder.add_node(\"find_meal\", find_meal_node)\n",
    "\n",
    "\n",
    "builder.add_edge(START, 'llm')\n",
    "builder.add_conditional_edges(\"llm\", meal_router, {\"tools\": \"find_meal\", \"end\": 'translation_router'})\n",
    "builder.add_conditional_edges(\"translation_router\", translation_router, {'translate':'translator', 'next':END})\n",
    "builder.add_edge(\"translator\", END)\n",
    "builder.add_edge(\"find_meal\", \"llm\")\n",
    "\n",
    "graph = builder.compile()\n"
   ]
  },
  {
   "cell_type": "code",
   "execution_count": 15,
   "id": "cb5225a8",
   "metadata": {},
   "outputs": [
    {
     "data": {
      "image/png": "[encoded data removed]",
      "text/plain": [
       "<IPython.core.display.Image object>"
      ]
     },
     "metadata": {},
     "output_type": "display_data"
    }
   ],
   "source": [
    "from IPython.display import Image, display\n",
    "\n",
    "try:\n",
    "    display(Image(graph.get_graph(xray=True).draw_mermaid_png()))\n",
    "except Exception:\n",
    "    pass"
   ]
  },
  {
   "cell_type": "code",
   "execution_count": 16,
   "id": "067e59f7",
   "metadata": {},
   "outputs": [],
   "source": [
    "def run_messages(messages: str):\n",
    "    language = detect(messages) if detect(messages) in ['en', 'ru'] else 'en'\n",
    "    return graph.invoke({'messages': [HumanMessage(messages)], 'language':language})"
   ]
  },
  {
   "cell_type": "code",
   "execution_count": 18,
   "id": "db0eab57",
   "metadata": {},
   "outputs": [
    {
     "name": "stdout",
     "output_type": "stream",
     "text": [
      "Entering LLM Node\n",
      "{'messages': [HumanMessage(content='How to cook blini?', additional_kwargs={}, response_metadata={})], 'language': 'en'}\n",
      "Deciding meal recipe\n",
      "{'messages': [HumanMessage(content='How to cook blini?', additional_kwargs={}, response_metadata={}), AIMessage(content='', additional_kwargs={}, response_metadata={'model': 'qwen3:1.7b', 'created_at': '2025-06-11T13:16:12.1128387Z', 'done': True, 'done_reason': 'stop', 'total_duration': 4557874700, 'load_duration': 36056300, 'prompt_eval_count': 247, 'prompt_eval_duration': 164829500, 'eval_count': 253, 'eval_duration': 4353424300, 'model_name': 'qwen3:1.7b'}, id='run--98d0a688-2555-4bff-a8e3-9e276b7e9f3f-0', tool_calls=[{'name': 'find_closest_meal', 'args': {'meal_query': 'blini'}, 'id': '5ac52c39-4286-4b8f-9eda-d01f98ea8af0', 'type': 'tool_call'}], usage_metadata={'input_tokens': 247, 'output_tokens': 253, 'total_tokens': 500})], 'language': 'en'}\n",
      "Started find meal tool\n",
      "{'name': 'Blini Pancakes', 'category': 'Side', 'origin country': 'Russian', 'ingredients': '1. Buckwheat            1/2 cup \\n2. Flour                2/3 Cup\\n3. Salt                 1/2 tsp\\n4. Yeast                1 tsp \\n5. Milk                 1 cup \\n6. Butter               2 tbs\\n7. Egg                  1 Seperated\\n', 'instructions': 'In a large bowl, whisk together 1/2 cup buckwheat flour, 2/3 cup all-purpose flour, 1/2 teaspoon salt, and 1 teaspoon yeast.\\r\\n\\r\\nMake a well in the center and pour in 1 cup warm milk, whisking until the batter is smooth.\\r\\n\\r\\nCover the bowl and let the batter rise until doubled, about 1 hour.\\r\\n\\r\\nEnrich and Rest the Batter\\r\\nStir 2 tablespoons melted butter and 1 egg yolk into the batter.\\r\\n\\r\\nIn a separate bowl, whisk 1 egg white until stiff, but not dry.\\r\\n\\r\\nFold the whisked egg white into the batter.\\r\\n\\r\\nCover the bowl and let the batter stand 20 minutes.\\r\\n\\r\\nPan-Fry the Blini\\r\\nHeat butter in a large nonstick skillet over medium heat.\\r\\n\\r\\nDrop quarter-sized dollops of batter into the pan, being careful not to overcrowd the pan. Cook for about 1 minute or until bubbles form.\\r\\n\\r\\nTurn and cook for about 30 additional seconds.\\r\\n\\r\\nRemove the finished blini onto a plate and cover them with a clean kitchen towel to keep warm. Add more butter to the pan and repeat the frying process with the remaining batter.'}\n",
      "Entering LLM Node\n",
      "{'messages': [ToolMessage(content=\"{'name': 'Blini Pancakes', 'category': 'Side', 'origin country': 'Russian', 'ingredients': '1. Buckwheat            1/2 cup \\\\n2. Flour                2/3 Cup\\\\n3. Salt                 1/2 tsp\\\\n4. Yeast                1 tsp \\\\n5. Milk                 1 cup \\\\n6. Butter               2 tbs\\\\n7. Egg                  1 Seperated\\\\n', 'instructions': 'In a large bowl, whisk together 1/2 cup buckwheat flour, 2/3 cup all-purpose flour, 1/2 teaspoon salt, and 1 teaspoon yeast.\\\\r\\\\n\\\\r\\\\nMake a well in the center and pour in 1 cup warm milk, whisking until the batter is smooth.\\\\r\\\\n\\\\r\\\\nCover the bowl and let the batter rise until doubled, about 1 hour.\\\\r\\\\n\\\\r\\\\nEnrich and Rest the Batter\\\\r\\\\nStir 2 tablespoons melted butter and 1 egg yolk into the batter.\\\\r\\\\n\\\\r\\\\nIn a separate bowl, whisk 1 egg white until stiff, but not dry.\\\\r\\\\n\\\\r\\\\nFold the whisked egg white into the batter.\\\\r\\\\n\\\\r\\\\nCover the bowl and let the batter stand 20 minutes.\\\\r\\\\n\\\\r\\\\nPan-Fry the Blini\\\\r\\\\nHeat butter in a large nonstick skillet over medium heat.\\\\r\\\\n\\\\r\\\\nDrop quarter-sized dollops of batter into the pan, being careful not to overcrowd the pan. Cook for about 1 minute or until bubbles form.\\\\r\\\\n\\\\r\\\\nTurn and cook for about 30 additional seconds.\\\\r\\\\n\\\\r\\\\nRemove the finished blini onto a plate and cover them with a clean kitchen towel to keep warm. Add more butter to the pan and repeat the frying process with the remaining batter.'}\", name='find_closest_meal', tool_call_id='5ac52c39-4286-4b8f-9eda-d01f98ea8af0')], 'language': 'en', 'image': 'https://www.themealdb.com/images/media/meals/0206h11699013358.jpg'}\n",
      "Deciding meal recipe\n",
      "{'messages': [ToolMessage(content=\"{'name': 'Blini Pancakes', 'category': 'Side', 'origin country': 'Russian', 'ingredients': '1. Buckwheat            1/2 cup \\\\n2. Flour                2/3 Cup\\\\n3. Salt                 1/2 tsp\\\\n4. Yeast                1 tsp \\\\n5. Milk                 1 cup \\\\n6. Butter               2 tbs\\\\n7. Egg                  1 Seperated\\\\n', 'instructions': 'In a large bowl, whisk together 1/2 cup buckwheat flour, 2/3 cup all-purpose flour, 1/2 teaspoon salt, and 1 teaspoon yeast.\\\\r\\\\n\\\\r\\\\nMake a well in the center and pour in 1 cup warm milk, whisking until the batter is smooth.\\\\r\\\\n\\\\r\\\\nCover the bowl and let the batter rise until doubled, about 1 hour.\\\\r\\\\n\\\\r\\\\nEnrich and Rest the Batter\\\\r\\\\nStir 2 tablespoons melted butter and 1 egg yolk into the batter.\\\\r\\\\n\\\\r\\\\nIn a separate bowl, whisk 1 egg white until stiff, but not dry.\\\\r\\\\n\\\\r\\\\nFold the whisked egg white into the batter.\\\\r\\\\n\\\\r\\\\nCover the bowl and let the batter stand 20 minutes.\\\\r\\\\n\\\\r\\\\nPan-Fry the Blini\\\\r\\\\nHeat butter in a large nonstick skillet over medium heat.\\\\r\\\\n\\\\r\\\\nDrop quarter-sized dollops of batter into the pan, being careful not to overcrowd the pan. Cook for about 1 minute or until bubbles form.\\\\r\\\\n\\\\r\\\\nTurn and cook for about 30 additional seconds.\\\\r\\\\n\\\\r\\\\nRemove the finished blini onto a plate and cover them with a clean kitchen towel to keep warm. Add more butter to the pan and repeat the frying process with the remaining batter.'}\", name='find_closest_meal', tool_call_id='5ac52c39-4286-4b8f-9eda-d01f98ea8af0'), AIMessage(content='🎉 **Blini Pancakes Recipe!** 🎉  \\n\\n**Ingredients:**  \\n- 1/2 cup buckwheat  \\n- 2/3 cup flour  \\n- 1/2 tsp salt  \\n- 1 tsp yeast  \\n- 1 cup milk  \\n- 2 tbsp butter  \\n- 1 egg (separated)  \\n\\n**Instructions:**  \\n1. **Mix the Base:** Whisk buckwheat, flour, salt, and yeast in a bowl.  \\n2. **Add Liquid:** Add 1 cup warm milk and mix until smooth.  \\n3. **Rise:** Let the batter double in size (1 hour).  \\n4. **Enrich:** Stir in 2 tbsp melted butter and 1 egg yolk.  \\n5. **Fold Egg White:** Whisk 1 egg white until stiff, then fold into the batter.  \\n6. **Rest:** Let it sit for 20 minutes.  \\n7. **Fry the Blini:** Heat butter in a skillet. Drop dollops of batter, cook until golden, and repeat with the remaining mix.  \\n\\n✨ *Bonus:* These fluffy, buttery pancakes are perfect for breakfast! 🥣✨  \\n\\nWould you like a version with added toppings or a different recipe? 😊', additional_kwargs={}, response_metadata={'model': 'qwen3:1.7b', 'created_at': '2025-06-11T13:16:22.8724379Z', 'done': True, 'done_reason': 'stop', 'total_duration': 9556347400, 'load_duration': 31022400, 'prompt_eval_count': 629, 'prompt_eval_duration': 302126000, 'eval_count': 382, 'eval_duration': 9214018400, 'model_name': 'qwen3:1.7b'}, id='run--91b73fe4-ab60-4329-ad6c-0999a6c0bfd0-0', usage_metadata={'input_tokens': 629, 'output_tokens': 382, 'total_tokens': 1011})], 'language': 'en', 'image': 'https://www.themealdb.com/images/media/meals/0206h11699013358.jpg'}\n",
      "Deciding translation\n",
      "Bot's answer is in en language\n",
      "User's question is in en language\n"
     ]
    },
    {
     "data": {
      "text/plain": [
       "{'messages': [ToolMessage(content=\"{'name': 'Blini Pancakes', 'category': 'Side', 'origin country': 'Russian', 'ingredients': '1. Buckwheat            1/2 cup \\\\n2. Flour                2/3 Cup\\\\n3. Salt                 1/2 tsp\\\\n4. Yeast                1 tsp \\\\n5. Milk                 1 cup \\\\n6. Butter               2 tbs\\\\n7. Egg                  1 Seperated\\\\n', 'instructions': 'In a large bowl, whisk together 1/2 cup buckwheat flour, 2/3 cup all-purpose flour, 1/2 teaspoon salt, and 1 teaspoon yeast.\\\\r\\\\n\\\\r\\\\nMake a well in the center and pour in 1 cup warm milk, whisking until the batter is smooth.\\\\r\\\\n\\\\r\\\\nCover the bowl and let the batter rise until doubled, about 1 hour.\\\\r\\\\n\\\\r\\\\nEnrich and Rest the Batter\\\\r\\\\nStir 2 tablespoons melted butter and 1 egg yolk into the batter.\\\\r\\\\n\\\\r\\\\nIn a separate bowl, whisk 1 egg white until stiff, but not dry.\\\\r\\\\n\\\\r\\\\nFold the whisked egg white into the batter.\\\\r\\\\n\\\\r\\\\nCover the bowl and let the batter stand 20 minutes.\\\\r\\\\n\\\\r\\\\nPan-Fry the Blini\\\\r\\\\nHeat butter in a large nonstick skillet over medium heat.\\\\r\\\\n\\\\r\\\\nDrop quarter-sized dollops of batter into the pan, being careful not to overcrowd the pan. Cook for about 1 minute or until bubbles form.\\\\r\\\\n\\\\r\\\\nTurn and cook for about 30 additional seconds.\\\\r\\\\n\\\\r\\\\nRemove the finished blini onto a plate and cover them with a clean kitchen towel to keep warm. Add more butter to the pan and repeat the frying process with the remaining batter.'}\", name='find_closest_meal', tool_call_id='5ac52c39-4286-4b8f-9eda-d01f98ea8af0'),\n",
       "  AIMessage(content='🎉 **Blini Pancakes Recipe!** 🎉  \\n\\n**Ingredients:**  \\n- 1/2 cup buckwheat  \\n- 2/3 cup flour  \\n- 1/2 tsp salt  \\n- 1 tsp yeast  \\n- 1 cup milk  \\n- 2 tbsp butter  \\n- 1 egg (separated)  \\n\\n**Instructions:**  \\n1. **Mix the Base:** Whisk buckwheat, flour, salt, and yeast in a bowl.  \\n2. **Add Liquid:** Add 1 cup warm milk and mix until smooth.  \\n3. **Rise:** Let the batter double in size (1 hour).  \\n4. **Enrich:** Stir in 2 tbsp melted butter and 1 egg yolk.  \\n5. **Fold Egg White:** Whisk 1 egg white until stiff, then fold into the batter.  \\n6. **Rest:** Let it sit for 20 minutes.  \\n7. **Fry the Blini:** Heat butter in a skillet. Drop dollops of batter, cook until golden, and repeat with the remaining mix.  \\n\\n✨ *Bonus:* These fluffy, buttery pancakes are perfect for breakfast! 🥣✨  \\n\\nWould you like a version with added toppings or a different recipe? 😊', additional_kwargs={}, response_metadata={'model': 'qwen3:1.7b', 'created_at': '2025-06-11T13:16:22.8724379Z', 'done': True, 'done_reason': 'stop', 'total_duration': 9556347400, 'load_duration': 31022400, 'prompt_eval_count': 629, 'prompt_eval_duration': 302126000, 'eval_count': 382, 'eval_duration': 9214018400, 'model_name': 'qwen3:1.7b'}, id='run--91b73fe4-ab60-4329-ad6c-0999a6c0bfd0-0', usage_metadata={'input_tokens': 629, 'output_tokens': 382, 'total_tokens': 1011})],\n",
       " 'language': 'en',\n",
       " 'image': 'https://www.themealdb.com/images/media/meals/0206h11699013358.jpg'}"
      ]
     },
     "execution_count": 18,
     "metadata": {},
     "output_type": "execute_result"
    }
   ],
   "source": [
    "run_messages(\"How to cook blini?\")"
   ]
  },
  {
   "cell_type": "code",
   "execution_count": null,
   "id": "ef8c3e63",
   "metadata": {},
   "outputs": [],
   "source": []
  },
  {
   "cell_type": "code",
   "execution_count": null,
   "id": "1663c62e",
   "metadata": {},
   "outputs": [],
   "source": []
  },
  {
   "cell_type": "code",
   "execution_count": null,
   "id": "ad34ca7b",
   "metadata": {},
   "outputs": [],
   "source": []
  }
 ],
 "metadata": {
  "kernelspec": {
   "display_name": "lang_agents",
   "language": "python",
   "name": "python3"
  },
  "language_info": {
   "codemirror_mode": {
    "name": "ipython",
    "version": 3
   },
   "file_extension": ".py",
   "mimetype": "text/x-python",
   "name": "python",
   "nbconvert_exporter": "python",
   "pygments_lexer": "ipython3",
   "version": "3.10.18"
  }
 },
 "nbformat": 4,
 "nbformat_minor": 5
}
